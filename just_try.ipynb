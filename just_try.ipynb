{
  "nbformat": 4,
  "nbformat_minor": 0,
  "metadata": {
    "colab": {
      "name": " just_try.ipynb",
      "provenance": [],
      "authorship_tag": "ABX9TyPN7IazBlLDJx/FdETmVJx9"
    },
    "kernelspec": {
      "name": "python3",
      "display_name": "Python 3"
    }
  },
  "cells": [
    {
      "cell_type": "code",
      "metadata": {
        "id": "pQYYowsyFe7C"
      },
      "source": [
        "print(\"Hello\")\r\n",
        "print(\"hii\")"
      ],
      "execution_count": null,
      "outputs": []
    }
  ]
}